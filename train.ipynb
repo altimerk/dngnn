{
 "cells": [
  {
   "cell_type": "code",
   "execution_count": null,
   "id": "a3a20995-5a93-473f-9090-83a386b8fa03",
   "metadata": {},
   "outputs": [],
   "source": [
    "import rawpy\n",
    "import imageio\n",
    "from pathlib import Path\n",
    "import torch\n",
    "from torch.utils.data import Dataset, DataLoader\n",
    "from torchvision import transforms, datasets, models\n",
    "import numpy as np\n",
    "from torchvision import models\n",
    "from matplotlib import pyplot as plt\n",
    "import torch\n",
    "from torchsummary import summary\n",
    "from collections import defaultdict\n",
    "import torch.nn.functional as F\n",
    "import torch\n",
    "from torchsummary import summary\n",
    "import torch\n",
    "import torch.nn as nn\n",
    "# from loss import dice_loss\n",
    "from tqdm import tqdm\n",
    "import random\n",
    "import pickle\n",
    "from torch.utils.tensorboard import SummaryWriter"
   ]
  },
  {
   "cell_type": "code",
   "execution_count": null,
   "id": "58fa6e66-1c6b-4823-b142-075a46d3d880",
   "metadata": {},
   "outputs": [],
   "source": [
    "with open('/home/ad/dng/raw_list.pkl','rb') as f:\n",
    "    raw_list = pickle.load(f)\n",
    "    raw_array = np.stack(raw_list)\n",
    "    del raw_list\n",
    "    raw_array[raw_array>255] = 255\n",
    "    raw_array = raw_array.astype(np.float32)/255.0\n",
    "with open('/home/ad/dng/rgb_list.pkl','rb') as f:\n",
    "    rgb_list = pickle.load(f)\n",
    "    rgb_array = np.stack(rgb_list)\n",
    "    del rgb_list\n",
    "    rgb_array = rgb_array.astype(np.float32)/255.0"
   ]
  },
  {
   "cell_type": "code",
   "execution_count": null,
   "id": "56e93c2c-183c-4f2a-9dc1-f2552d1f6717",
   "metadata": {},
   "outputs": [],
   "source": [
    "class SimDataset(Dataset):\n",
    "    def __init__(self, raw_array, rgb_array,count, transform=None):\n",
    "        # self.flist = []\n",
    "        self.size = 64\n",
    "        self.stride = 2\n",
    "        self.count = count\n",
    "        self.raw_array = raw_array\n",
    "        self.rgb_array = rgb_array\n",
    "        # for x in tqdm(path.iterdir()):\n",
    "        #     if x.is_file():\n",
    "        #         self.flist.append(x)\n",
    "        #         raw = rawpy.imread(str(x))\n",
    "        #         self.raw_list.append(raw.raw_image)\n",
    "        #         self.rgb_list.append(raw.postprocess())\n",
    "\n",
    "#         self.input_images, self.target_masks = simulation.generate_random_data(192, 192, count=count)        \n",
    "        self.transform = transform\n",
    "        self.source_transform = transforms.Compose([\n",
    "        transforms.ToTensor(),\n",
    "        transforms.Normalize([0.479], [0.212]) # dng\n",
    "        ])\n",
    "        self.target_transform = transforms.Compose([\n",
    "            transforms.ToTensor(),\n",
    "            transforms.Normalize([0.485, 0.456, 0.406], [0.229, 0.224, 0.225]) # imagenet\n",
    "        ])\n",
    "    def __len__(self):\n",
    "        return self.count\n",
    "    \n",
    "    def __getitem__(self, idx):  \n",
    "        stride = self.stride\n",
    "        sample_num = idx%len(self.raw_array)\n",
    "#         raw = rawpy.imread(str(self.flist[idx]))\n",
    "        raw_image = self.raw_array[sample_num]\n",
    "        rgb = self.rgb_array[sample_num]\n",
    "        x = random.randint(0,int((raw_image.shape[0]-train_set.size-1)/stride))\n",
    "        y = random.randint(0,int((raw_image.shape[1]-train_set.size-1)/stride))\n",
    "        raw_crop = raw_image[stride*x:stride*x+self.size,stride*y:stride*y+self.size]\n",
    "        rgb_crop = rgb[stride*x:stride*x+self.size,stride*y:stride*y+self.size]\n",
    "#         if self.transform:\n",
    "#             raw_image = self.transform(raw_image.astype(np.float32))\n",
    "#             rgb = self.transform(rgb)\n",
    "        return [self.source_transform(raw_crop), self.target_transform(rgb_crop)]\n"
   ]
  },
  {
   "cell_type": "code",
   "execution_count": null,
   "id": "0991c440-02f6-4a84-bb1b-ef91a7f8b804",
   "metadata": {},
   "outputs": [],
   "source": [
    "directory = Path('/content/intern_task')\n",
    "train_set = SimDataset(raw_array[2:],rgb_array[2:], 512)\n",
    "val_set = SimDataset(raw_array[:2],rgb_array[:2], 64)"
   ]
  },
  {
   "cell_type": "code",
   "execution_count": null,
   "id": "ce5845c5-7f0c-4e39-b159-eabb12ad025c",
   "metadata": {},
   "outputs": [],
   "source": [
    "batch_size = 16\n",
    "\n",
    "train_dataloader = DataLoader(train_set, batch_size=batch_size, shuffle=True, num_workers=2);\n",
    "val_dataloader = DataLoader(train_set, batch_size=batch_size, shuffle=False, num_workers=2);"
   ]
  },
  {
   "cell_type": "code",
   "execution_count": null,
   "id": "34d0874a-02be-4e3e-933f-7cc48426488f",
   "metadata": {},
   "outputs": [],
   "source": [
    "inv_normalize = transforms.Normalize(\n",
    "    mean=[-0.485/0.229, -0.456/0.224, -0.406/0.255],\n",
    "    std=[1/0.229, 1/0.224, 1/0.255]\n",
    ")\n"
   ]
  },
  {
   "cell_type": "code",
   "execution_count": null,
   "id": "7ca08745-3098-460c-8a7c-dc9dbd1fdf10",
   "metadata": {},
   "outputs": [],
   "source": [
    "inv_tensor = inv_normalize(train_set[0][1])#.numpy().astype(np.uint8)."
   ]
  },
  {
   "cell_type": "code",
   "execution_count": null,
   "id": "9adf7c1b-738d-4ed8-970c-d3c6286635c0",
   "metadata": {},
   "outputs": [],
   "source": [
    "plt.imshow(inv_tensor.permute(1,2,0))"
   ]
  },
  {
   "cell_type": "code",
   "execution_count": null,
   "id": "a8334a28-ddde-47df-9a98-511aac77403b",
   "metadata": {},
   "outputs": [],
   "source": [
    "raw, rgb = train_set[0]\n",
    "plt.imshow(raw.permute(1,2,0))\n",
    "plt.show()\n",
    "plt.imshow(rgb.permute(1,2,0))\n",
    "plt.show()"
   ]
  },
  {
   "cell_type": "code",
   "execution_count": null,
   "id": "7ce4c5c9-b318-4bd9-b591-40753359937f",
   "metadata": {},
   "outputs": [],
   "source": [
    "plt.imshow(reverse_transform(rgb))"
   ]
  },
  {
   "cell_type": "code",
   "execution_count": null,
   "id": "6869ce4d-a3c8-476a-be4b-ccdba0f56583",
   "metadata": {},
   "outputs": [],
   "source": [
    "def convrelu(in_channels, out_channels, kernel, padding):\n",
    "    return nn.Sequential(\n",
    "        nn.Conv2d(in_channels, out_channels, kernel, padding=padding),\n",
    "        nn.BatchNorm2d(out_channels),\n",
    "        nn.ReLU(inplace=True),\n",
    "    )\n",
    "\n",
    "class ResNetUNet(nn.Module):\n",
    "\n",
    "    def __init__(self, n_class):\n",
    "        super().__init__()\n",
    "        \n",
    "        self.base_model = models.resnet18(pretrained=True)\n",
    "        \n",
    "        self.base_layers = list(self.base_model.children())                \n",
    "        \n",
    "        self.layer0 = nn.Sequential(*self.base_layers[:3]) # size=(N, 64, x.H/2, x.W/2)\n",
    "        self.layer0[0] = nn.Conv2d(1, 64, kernel_size=(7, 7), stride=(2, 2), padding=(3, 3), bias=False)\n",
    "        self.layer0_1x1 = convrelu(64, 64, 1, 0)\n",
    "        self.layer1 = nn.Sequential(*self.base_layers[3:5]) # size=(N, 64, x.H/4, x.W/4)        \n",
    "        self.layer1_1x1 = convrelu(64, 64, 1, 0)       \n",
    "        self.layer2 = self.base_layers[5]  # size=(N, 128, x.H/8, x.W/8)        \n",
    "        self.layer2_1x1 = convrelu(128, 128, 1, 0)  \n",
    "        self.layer3 = self.base_layers[6]  # size=(N, 256, x.H/16, x.W/16)        \n",
    "        self.layer3_1x1 = convrelu(256, 256, 1, 0)  \n",
    "        self.layer4 = self.base_layers[7]  # size=(N, 512, x.H/32, x.W/32)\n",
    "        self.layer4_1x1 = convrelu(512, 512, 1, 0)  \n",
    "        \n",
    "        self.upsample = nn.Upsample(scale_factor=2, mode='bilinear', align_corners=True)\n",
    "        \n",
    "        self.conv_up3 = convrelu(256 + 512, 512, 3, 1)\n",
    "        self.conv_up2 = convrelu(128 + 512, 256, 3, 1)\n",
    "        self.conv_up1 = convrelu(64 + 256, 256, 3, 1)\n",
    "        self.conv_up0 = convrelu(64 + 256, 128, 3, 1)\n",
    "        \n",
    "        self.conv_original_size0 = convrelu(1, 64, 3, 1)\n",
    "        self.conv_original_size1 = convrelu(64, 64, 3, 1)\n",
    "        self.conv_original_size2 = convrelu(64 + 128, 64, 3, 1)\n",
    "        \n",
    "        self.conv_last = nn.Conv2d(64, n_class, 1)\n",
    "        \n",
    "    def forward(self, input):\n",
    "        x_original = self.conv_original_size0(input)\n",
    "        x_original = self.conv_original_size1(x_original)\n",
    "        \n",
    "        layer0 = self.layer0(input)            \n",
    "        layer1 = self.layer1(layer0)\n",
    "        layer2 = self.layer2(layer1)\n",
    "        layer3 = self.layer3(layer2)        \n",
    "        layer4 = self.layer4(layer3)\n",
    "        \n",
    "        layer4 = self.layer4_1x1(layer4)\n",
    "        x = self.upsample(layer4)\n",
    "        \n",
    "        layer3 = self.layer3_1x1(layer3)\n",
    "#         x = self.upsample(layer3)\n",
    "#         print(\"x shape:\",x.shape)\n",
    "#         print(\"layer3 shape:\",layer3.shape)\n",
    "        x = torch.cat([x, layer3], dim=1)\n",
    "        x = self.conv_up3(x)\n",
    " \n",
    "        x = self.upsample(x)\n",
    "        layer2 = self.layer2_1x1(layer2)\n",
    "        x = torch.cat([x, layer2], dim=1)\n",
    "        x = self.conv_up2(x)\n",
    "\n",
    "        x = self.upsample(x)\n",
    "        layer1 = self.layer1_1x1(layer1)\n",
    "        x = torch.cat([x, layer1], dim=1)\n",
    "        x = self.conv_up1(x)\n",
    "\n",
    "        x = self.upsample(x)\n",
    "        layer0 = self.layer0_1x1(layer0)\n",
    "        x = torch.cat([x, layer0], dim=1)\n",
    "        x = self.conv_up0(x)\n",
    "        \n",
    "        x = self.upsample(x)\n",
    "        x = torch.cat([x, x_original], dim=1)\n",
    "        x = self.conv_original_size2(x)        \n",
    "        \n",
    "        out = self.conv_last(x)        \n",
    "        \n",
    "        return out\n",
    "\n"
   ]
  },
  {
   "cell_type": "code",
   "execution_count": null,
   "id": "2ed79761-923e-437b-8f62-e61d8a16c27b",
   "metadata": {},
   "outputs": [],
   "source": [
    "device = torch.device('cuda' if torch.cuda.is_available() else 'cpu')\n",
    "model = ResNetUNet(3)\n",
    "model = model.to(device)\n"
   ]
  },
  {
   "cell_type": "code",
   "execution_count": null,
   "id": "33410e44-5827-4b0e-9146-0fe7098613b7",
   "metadata": {},
   "outputs": [],
   "source": [
    "inputs, labels = next(iter(train_dataloader))\n",
    "out = model(inputs.to(device))"
   ]
  },
  {
   "cell_type": "code",
   "execution_count": null,
   "id": "4d3d48dd-3e72-4549-b9c1-292e228c1dad",
   "metadata": {},
   "outputs": [],
   "source": [
    "summary(model,input_size=(1, 64, 64))"
   ]
  },
  {
   "cell_type": "code",
   "execution_count": null,
   "id": "e96b2738-1130-4fc7-b6fd-d41ca24bccc0",
   "metadata": {},
   "outputs": [],
   "source": [
    "plt.imshow(inv_normalize(labels[0]).permute(1,2,0))"
   ]
  },
  {
   "cell_type": "code",
   "execution_count": null,
   "id": "638a6cd1-660a-4f32-8886-961c0f49e27b",
   "metadata": {},
   "outputs": [],
   "source": [
    "plt.imshow(inv_normalize(out.detach().cpu()[0]).permute(1,2,0))"
   ]
  },
  {
   "cell_type": "code",
   "execution_count": null,
   "id": "3e771a1b-a9c1-45aa-b603-3f578d2e66dd",
   "metadata": {},
   "outputs": [],
   "source": [
    "model = torch.load('resnet18.pt')"
   ]
  },
  {
   "cell_type": "code",
   "execution_count": null,
   "id": "ecb1d143-f31b-4808-9874-02f8e2c00e38",
   "metadata": {},
   "outputs": [],
   "source": [
    "import torch\n",
    "import torch.optim as optim\n",
    "from torch.optim import lr_scheduler\n",
    "import time\n",
    "import copy\n",
    "\n",
    "device = torch.device(\"cuda:0\" if torch.cuda.is_available() else \"cpu\")\n",
    "print(device)\n",
    "\n",
    "num_class = 3\n",
    "\n",
    "model = ResNetUNet(num_class).to(device)\n",
    "optimizer = optim.AdamW(model.parameters(),lr=1e-4)\n",
    "\n",
    "scheduler = lr_scheduler.StepLR(optimizer, step_size=10, gamma=0.8) \n"
   ]
  },
  {
   "cell_type": "code",
   "execution_count": null,
   "id": "01accdc6-e130-4f00-b369-dd91bba35a71",
   "metadata": {},
   "outputs": [],
   "source": [
    "num_epochs = 200\n",
    "writer = SummaryWriter(comment=\"resnet18 4layer batch 16, size 64\")\n",
    "mse_loss = nn.MSELoss()\n",
    "\n",
    "for epoch in range(num_epochs):\n",
    "    print('Epoch {}/{}'.format(epoch, num_epochs - 1))\n",
    "\n",
    "\n",
    "    model.train()\n",
    "    scheduler.step()\n",
    "    for param_group in optimizer.param_groups:\n",
    "        print(\"LR\", param_group['lr'])\n",
    "\n",
    "    losses = []\n",
    "    progress = tqdm(train_dataloader)\n",
    "    for inputs, labels in progress:\n",
    "        inputs = inputs.to(device)\n",
    "        labels = labels.to(device)             \n",
    "\n",
    "        outputs = model(inputs)\n",
    "\n",
    "        loss = mse_loss(outputs,labels)\n",
    "        losses.append(loss)\n",
    "\n",
    "        # Backpropagation\n",
    "        optimizer.zero_grad()\n",
    "\n",
    "        loss.backward()\n",
    "        optimizer.step()\n",
    "        progress.set_description(str(loss.item()))\n",
    "\n",
    "    writer.add_scalar('loss train', sum(losses)/len(losses), epoch)\n",
    "    writer.add_scalar('lr', optimizer.param_groups[0]['lr'], epoch)\n",
    "\n",
    "    losses = []\n",
    "    model.eval()\n",
    "    progress = tqdm(val_dataloader)\n",
    "    for inputs, labels in progress:\n",
    "        inputs = inputs.to(device)\n",
    "        labels = labels.to(device)             \n",
    "\n",
    "        # forward\n",
    "        # track history if only in train\n",
    "\n",
    "        \n",
    "        with torch.no_grad():\n",
    "            outputs = model(inputs)\n",
    "            loss = mse_loss(outputs,labels)\n",
    "        losses.append(loss)\n",
    "\n",
    "        progress.set_description(str(loss.item()))\n",
    "\n",
    "    writer.add_scalar('loss val', sum(losses)/len(losses), epoch)\n",
    "\n",
    "\n",
    "    print(\"loss:\", sum(losses)/len(losses))\n",
    "    print(optimizer.param_groups[0]['lr'])\n",
    "\n",
    "\n",
    "\n"
   ]
  },
  {
   "cell_type": "code",
   "execution_count": null,
   "id": "0b0946f5-30c5-4666-ac73-9e802d1248d1",
   "metadata": {},
   "outputs": [],
   "source": [
    "torch.save(model,'resnet18_64_4l_0508.pt')"
   ]
  },
  {
   "cell_type": "code",
   "execution_count": null,
   "id": "29fa4955-87ae-4d3a-a814-d5dce1d7d011",
   "metadata": {},
   "outputs": [],
   "source": [
    "def reverse_transform(inp):\n",
    "    inp = inp.numpy().transpose((1, 2, 0))\n",
    "    mean = np.array([0.485, 0.456, 0.406])\n",
    "    std = np.array([0.229, 0.224, 0.225])\n",
    "    inp = std * inp + mean\n",
    "    inp = np.clip(inp, 0, 1)\n",
    "    inp = (inp * 255).astype(np.uint8)\n",
    "    \n",
    "    return inp"
   ]
  },
  {
   "cell_type": "code",
   "execution_count": null,
   "id": "d5ed0cf0-1ec1-47ca-9801-b0b9d7604995",
   "metadata": {},
   "outputs": [],
   "source": [
    "inp, label = next(iter(val_dataloader))"
   ]
  },
  {
   "cell_type": "code",
   "execution_count": null,
   "id": "8bf5d11e-5bfd-45ad-8052-89911209c003",
   "metadata": {},
   "outputs": [],
   "source": [
    "mse_loss(out,labels.to(device))"
   ]
  },
  {
   "cell_type": "code",
   "execution_count": null,
   "id": "faeaf0f5-0513-4077-8a78-a24a5c5b1ad1",
   "metadata": {},
   "outputs": [],
   "source": [
    "model.eval()"
   ]
  },
  {
   "cell_type": "code",
   "execution_count": null,
   "id": "ba57f7ed-0a42-443b-a692-4c7d66790488",
   "metadata": {},
   "outputs": [],
   "source": [
    "reverse_transform(label.cpu())"
   ]
  },
  {
   "cell_type": "code",
   "execution_count": null,
   "id": "2aaba31d-00ae-492e-b2bc-38b28ea38737",
   "metadata": {},
   "outputs": [],
   "source": [
    "inp, label = train_set[0]\n",
    "with torch.no_grad():\n",
    "    out = model(inp.unsqueeze(0).to(device))    \n",
    "    out_img = reverse_transform(out[0].cpu())\n",
    "    label_img = reverse_transform(label.cpu())"
   ]
  },
  {
   "cell_type": "code",
   "execution_count": null,
   "id": "852f32f2-04da-4678-9b0f-fe6eaf73e45a",
   "metadata": {},
   "outputs": [],
   "source": [
    "%%time\n",
    "with torch.no_grad():\n",
    "    out = model(inp.to(device))"
   ]
  },
  {
   "cell_type": "code",
   "execution_count": null,
   "id": "4cb40f88-6006-43ec-9c56-6f676909871c",
   "metadata": {},
   "outputs": [],
   "source": [
    "plt.imshow(label_img)"
   ]
  },
  {
   "cell_type": "code",
   "execution_count": null,
   "id": "1086ab4c-977a-4878-abe5-374ff4c9a3e2",
   "metadata": {},
   "outputs": [],
   "source": [
    "plt.imshow(reverse_transform(out[0].cpu().detach()))"
   ]
  },
  {
   "cell_type": "code",
   "execution_count": null,
   "id": "a60e4f8c-4f88-42d5-997d-f67d9c9c37e0",
   "metadata": {},
   "outputs": [],
   "source": [
    "plt.imshow(reverse_transform(label))"
   ]
  },
  {
   "cell_type": "code",
   "execution_count": null,
   "id": "3a995b20-500b-481a-b4df-ae6d9bf10f49",
   "metadata": {},
   "outputs": [],
   "source": [
    "plt.imshow(out[0].cpu().permute(1,2,0).detach().numpy())"
   ]
  },
  {
   "cell_type": "code",
   "execution_count": null,
   "id": "80082ef5-ce13-4273-a7c2-2237232e8902",
   "metadata": {},
   "outputs": [],
   "source": [
    "label.shape"
   ]
  },
  {
   "cell_type": "code",
   "execution_count": null,
   "id": "cb9fb061-200f-418a-a068-fa049e26fecb",
   "metadata": {},
   "outputs": [],
   "source": [
    "plt.imshow(label_img)"
   ]
  },
  {
   "cell_type": "code",
   "execution_count": null,
   "id": "4d4b9138-ff1b-4006-be5b-f8d48d13afab",
   "metadata": {},
   "outputs": [],
   "source": [
    "plt.imshow(out_img)"
   ]
  }
 ],
 "metadata": {
  "kernelspec": {
   "display_name": "Python 3",
   "language": "python",
   "name": "python3"
  },
  "language_info": {
   "codemirror_mode": {
    "name": "ipython",
    "version": 3
   },
   "file_extension": ".py",
   "mimetype": "text/x-python",
   "name": "python",
   "nbconvert_exporter": "python",
   "pygments_lexer": "ipython3",
   "version": "3.8.5"
  }
 },
 "nbformat": 4,
 "nbformat_minor": 5
}
