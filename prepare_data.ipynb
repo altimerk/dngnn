{
 "cells": [
  {
   "cell_type": "code",
   "execution_count": 13,
   "id": "analyzed-oxford",
   "metadata": {},
   "outputs": [],
   "source": [
    "from tqdm import tqdm\n",
    "import rawpy\n",
    "from pathlib import Path\n",
    "import pickle"
   ]
  },
  {
   "cell_type": "code",
   "execution_count": 5,
   "id": "equipped-status",
   "metadata": {},
   "outputs": [],
   "source": [
    "path = Path('/mnt/d/intern_task')"
   ]
  },
  {
   "cell_type": "code",
   "execution_count": 10,
   "id": "single-shield",
   "metadata": {},
   "outputs": [
    {
     "name": "stderr",
     "output_type": "stream",
     "text": [
      "50it [00:30,  1.62it/s]\n"
     ]
    }
   ],
   "source": [
    "raw_list = []\n",
    "rgb_list = []\n",
    "for x in tqdm(path.iterdir()):\n",
    "        if x.is_file():\n",
    "            raw = rawpy.imread(str(x))\n",
    "            raw_list.append(raw.raw_image)\n",
    "            rgb_list.append(raw.postprocess())"
   ]
  },
  {
   "cell_type": "code",
   "execution_count": 15,
   "id": "departmental-arnold",
   "metadata": {},
   "outputs": [],
   "source": [
    "with open('/home/ad/dng/raw_list.pkl','wb') as f:\n",
    "    pickle.dump(raw_list, f)\n",
    "with open('/home/ad/dng/rgb_list.pkl','wb') as f:\n",
    "    pickle.dump(rgb_list, f)"
   ]
  }
 ],
 "metadata": {
  "kernelspec": {
   "display_name": "Python 3",
   "language": "python",
   "name": "python3"
  },
  "language_info": {
   "codemirror_mode": {
    "name": "ipython",
    "version": 3
   },
   "file_extension": ".py",
   "mimetype": "text/x-python",
   "name": "python",
   "nbconvert_exporter": "python",
   "pygments_lexer": "ipython3",
   "version": "3.8.5"
  }
 },
 "nbformat": 4,
 "nbformat_minor": 5
}
